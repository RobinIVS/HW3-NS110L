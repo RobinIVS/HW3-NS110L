{
 "cells": [
  {
   "cell_type": "code",
   "execution_count": 1,
   "metadata": {},
   "outputs": [
    {
     "name": "stdout",
     "output_type": "stream",
     "text": [
      "[  1.50120283e+07   5.36193283e+05  -5.14724485e-01]\n"
     ]
    }
   ],
   "source": [
    "import numpy as np\n",
    "import math\n",
    "from scipy.optimize import fsolve\n",
    "\n",
    "def f(variables) :\n",
    "    (H,A,O) = variables #Helium (HE) velocity, Gold (Au) velocity, and Angle\n",
    "    eq1 = (-3.34*(10**-7)*H) + (3.29*(10**-5)*A*math.cos(O)) - 10.341\n",
    "    eq2 = (5.785*(10**-2)*H) + (3.29*A*math.sin(O))\n",
    "    eq3 = (6.68*(10**-14)*(H**2)) + (3.29*(10**-12)*(A**2)) - 16\n",
    "    return [eq1, eq2, eq3]\n",
    "\n",
    "solution = fsolve(f, (10000000,1000000,-1) ) #adding guesses in the order of magnitude I expect the results to be\n",
    "print(solution)\n",
    "\n"
   ]
  }
 ],
 "metadata": {
  "kernelspec": {
   "display_name": "Python 3",
   "language": "python",
   "name": "python3"
  },
  "language_info": {
   "codemirror_mode": {
    "name": "ipython",
    "version": 3
   },
   "file_extension": ".py",
   "mimetype": "text/x-python",
   "name": "python",
   "nbconvert_exporter": "python",
   "pygments_lexer": "ipython3",
   "version": "3.6.1"
  }
 },
 "nbformat": 4,
 "nbformat_minor": 2
}
